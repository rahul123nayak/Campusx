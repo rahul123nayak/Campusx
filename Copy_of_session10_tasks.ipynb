{
  "nbformat": 4,
  "nbformat_minor": 0,
  "metadata": {
    "colab": {
      "provenance": [],
      "include_colab_link": true
    },
    "kernelspec": {
      "name": "python3",
      "display_name": "Python 3"
    },
    "language_info": {
      "name": "python"
    }
  },
  "cells": [
    {
      "cell_type": "markdown",
      "metadata": {
        "id": "view-in-github",
        "colab_type": "text"
      },
      "source": [
        "<a href=\"https://colab.research.google.com/github/rahul123nayak/Campusx/blob/main/Copy_of_session10_tasks.ipynb\" target=\"_parent\"><img src=\"https://colab.research.google.com/assets/colab-badge.svg\" alt=\"Open In Colab\"/></a>"
      ]
    },
    {
      "cell_type": "markdown",
      "source": [
        "### `Q-1:` Write a function `get_final_line(filename)`, which takes filename as input and return final line of the file.\n",
        "\n",
        "Note: You can choose any file of your choice."
      ],
      "metadata": {
        "id": "MbeMdx5d5qRj"
      }
    },
    {
      "cell_type": "code",
      "source": [
        "# Write code here\n",
        "with open('/home/note1.txt','w') as rf:\n",
        "  rf.write(\"hello world\\n\")\n",
        "  rf.writelines('''how are you?\n",
        "  how can i help you''')\n",
        "\n",
        "def get_final_line(textfile):\n",
        "  final_line =''\n",
        "  for i in open(textfile,'r'):\n",
        "    final_line= i\n",
        "  return final_line\n",
        "\n",
        "get_final_line('/home/note1.txt')\n",
        "\n",
        "\n"
      ],
      "metadata": {
        "id": "rjx9XRTq5uzD",
        "colab": {
          "base_uri": "https://localhost:8080/",
          "height": 35
        },
        "outputId": "a055515f-4e3a-48da-a7f0-735ffec992ca"
      },
      "execution_count": null,
      "outputs": [
        {
          "output_type": "execute_result",
          "data": {
            "text/plain": [
              "'  how can i help you'"
            ],
            "application/vnd.google.colaboratory.intrinsic+json": {
              "type": "string"
            }
          },
          "metadata": {},
          "execution_count": 9
        }
      ]
    },
    {
      "cell_type": "code",
      "source": [
        "from google.colab import drive\n",
        "drive.mount('/content/drive')"
      ],
      "metadata": {
        "id": "M30L67xSvbce"
      },
      "execution_count": null,
      "outputs": []
    },
    {
      "cell_type": "markdown",
      "source": [
        "###`Q-2:` Read through a text file, line by line. Use a dict to keep track of how many times each vowel (a, e, i, o, and u) appears in the file. Print the resulting tabulation -- dictionary."
      ],
      "metadata": {
        "id": "B87Z6-yQ5wVO"
      }
    },
    {
      "cell_type": "code",
      "source": [
        "# Write code here\n",
        "def vowel_count(textfile):\n",
        "  vowels =['a','e','i','o','u']\n",
        "  d ={i:0 for i in vowels}\n",
        "  for cline in open(textfile,'r'):\n",
        "    for ch in cline:\n",
        "      if ch in d:\n",
        "        d[ch]+=1\n",
        "  return d\n",
        "\n",
        "result = vowel_count('/home/note1.txt')\n",
        "print(result)\n"
      ],
      "metadata": {
        "id": "XeXnOL7X50Sa",
        "colab": {
          "base_uri": "https://localhost:8080/"
        },
        "outputId": "517caf97-8276-4aae-99b1-336d7dcd8a5a"
      },
      "execution_count": null,
      "outputs": [
        {
          "output_type": "stream",
          "name": "stdout",
          "text": [
            "{'a': 2, 'e': 3, 'i': 1, 'o': 6, 'u': 2}\n"
          ]
        }
      ]
    },
    {
      "cell_type": "markdown",
      "source": [
        "###`Q-3:` Create a text file (using an editor, not necessarily Python) containing two tab separated columns, with each column containing a number. Then use Python to read through the file you’ve created. For each line, multiply each first number by the second and include it in the file in third column. In last add a line Total, by summing the value of third column\n",
        "\n"
      ],
      "metadata": {
        "id": "lRqQ2Y295-Gg"
      }
    },
    {
      "cell_type": "markdown",
      "source": [
        "Input File example: That you need to create\n",
        "```\n",
        "1   2\n",
        "3   4\n",
        "5   6\n",
        "7   8\n",
        "9   10\n",
        "\n",
        "```\n",
        "\n",
        "Output File Example:\n",
        "```\n",
        "1   2   2\n",
        "3   4   12\n",
        "5   6   30\n",
        "7   8   56\n",
        "9   10  90\n",
        "Total   190\n",
        "```\n"
      ],
      "metadata": {
        "id": "GtFfahZc6Bvg"
      }
    },
    {
      "cell_type": "code",
      "source": [
        "# write code here\n",
        "with open('/content/sample_data/sample1.txt','w') as wf:\n",
        "  for i in range(1,11,2):\n",
        "    wf.write('{}\\t{}\\n'.format(i,i+1))\n",
        "\n",
        "with open('/content/sample_data/sample1.txt','r') as f:\n",
        "  lines = f.read().splitlines()\n",
        "\n",
        "total = 0\n",
        "with open('/content/sample_data/sample1.txt','w') as f:\n",
        "  for line in lines:\n",
        "    a,b= line.split(sep='\\t')\n",
        "    res = int(a)*int(b)\n",
        "    total = total+res\n",
        "    f.write('{}\\t{}\\t{}\\n'.format(a,b,res))\n",
        "  f.write('total\\t'+str(total))"
      ],
      "metadata": {
        "id": "GiKvqHnr5-j2"
      },
      "execution_count": 17,
      "outputs": []
    },
    {
      "cell_type": "markdown",
      "source": [
        "###`Q-4:` Create line wise reverse of a file\n",
        "Write a function which takes two arguments: the names of the input file (to be read from) and the output file (which will be created)."
      ],
      "metadata": {
        "id": "DunQepHC6J9r"
      }
    },
    {
      "cell_type": "markdown",
      "source": [
        "For example, if a file looks like\n",
        " ```\n",
        "abc def\n",
        "ghi jkl\n",
        "```\n",
        "then the output file will be\n",
        "```\n",
        "fed cba\n",
        "lkj ihg\n",
        "```\n",
        "**Notice**: The newline remains at the end of the string, while the rest of the characters are all reversed."
      ],
      "metadata": {
        "id": "QxWEtFle6Nmu"
      }
    },
    {
      "cell_type": "code",
      "source": [
        "# write code here\n",
        "input_txt = '/content/sample_data/sample1.txt'\n",
        "output_txt = '/content/sample_data/output1.txt'\n",
        "\n",
        "def reverse_word(input_txt,output_txt):\n",
        "  with open(input_txt,'r') as inf,open(output_txt,'w') as opf:\n",
        "    for line in inf:\n",
        "      opf.write(line.rstrip()[::-1]+'\\n')\n",
        "\n",
        "reverse_word(input_txt,output_txt)\n"
      ],
      "metadata": {
        "id": "aIJTJNAq6LD7"
      },
      "execution_count": 3,
      "outputs": []
    },
    {
      "cell_type": "markdown",
      "source": [
        "###`Q-5:` Create a Serialized dict of frequency of words in the file. And from given list of words, using serialized dict show word count.\n",
        "\n",
        "* List of word will be given\n",
        "\n"
      ],
      "metadata": {
        "id": "wqvx3sMY6bou"
      }
    },
    {
      "cell_type": "markdown",
      "source": [
        "Given String\n",
        "\n",
        "```\n",
        "strings = \"\"\"Alice was beginning to get very tired of sitting by her sister\n",
        "            on the bank, and of having nothing to do:  once or twice she had\n",
        "            peeped into the book her sister was reading, but it had no\n",
        "            pictures or conversations in it, `and what is the use of a book,'\n",
        "            thought Alice `without pictures or conversation?'\n",
        "\n",
        "            So she was considering in her own mind (as well as she could,\n",
        "            for the hot day made her feel very sleepy and stupid), whether\n",
        "            the pleasure of making a daisy-chain would be worth the trouble\n",
        "            of getting up and picking the daisies, when suddenly a White\n",
        "            Rabbit with pink eyes ran close by her.\n",
        "\n",
        "            There was nothing so VERY remarkable in that; nor did Alice\n",
        "            think it so VERY much out of the way to hear the Rabbit say to\n",
        "            itself, `Oh dear!  Oh dear!  I shall be late!'  (when she thought\n",
        "            it over afterwards, it occurred to her that she ought to have\n",
        "            wondered at this, but at the time it all seemed quite natural);\n",
        "            but when the Rabbit actually TOOK A WATCH OUT OF ITS WAISTCOAT-\n",
        "            POCKET, and looked at it, and then hurried on, Alice started to\n",
        "            her feet, for it flashed across her mind that she had never\n",
        "            before seen a rabbit with either a waistcoat-pocket, or a watch to\n",
        "            take out of it, and burning with curiosity, she ran across the\n",
        "            field after it, and fortunately was just in time to see it pop\n",
        "            down a large rabbit-hole under the hedge.\"\"\"\n",
        "\n",
        "word_list = ['alice', 'wonder', 'natural']\n",
        "```"
      ],
      "metadata": {
        "id": "uc5MSUWg6cZG"
      }
    },
    {
      "cell_type": "code",
      "source": [
        "# write code here\n",
        "\n",
        "strings = \"\"\"Alice was beginning to get very tired of sitting by her sister\n",
        "            on the bank, and of having nothing to do:  once or twice she had\n",
        "            peeped into the book her sister was reading, but it had no\n",
        "            pictures or conversations in it, `and what is the use of a book,'\n",
        "            thought Alice `without pictures or conversation?'\n",
        "\n",
        "            So she was considering in her own mind (as well as she could,\n",
        "            for the hot day made her feel very sleepy and stupid), whether\n",
        "            the pleasure of making a daisy-chain would be worth the trouble\n",
        "            of getting up and picking the daisies, when suddenly a White\n",
        "            Rabbit with pink eyes ran close by her.\n",
        "\n",
        "            There was nothing so VERY remarkable in that; nor did Alice\n",
        "            think it so VERY much out of the way to hear the Rabbit say to\n",
        "            itself, `Oh dear!  Oh dear!  I shall be late!'  (when she thought\n",
        "            it over afterwards, it occurred to her that she ought to have\n",
        "            wondered at this, but at the time it all seemed quite natural);\n",
        "            but when the Rabbit actually TOOK A WATCH OUT OF ITS WAISTCOAT-\n",
        "            POCKET, and looked at it, and then hurried on, Alice started to\n",
        "            her feet, for it flashed across her mind that she had never\n",
        "            before seen a rabbit with either a waistcoat-pocket, or a watch to\n",
        "            take out of it, and burning with curiosity, she ran across the\n",
        "            field after it, and fortunately was just in time to see it pop\n",
        "            down a large rabbit-hole under the hedge.\"\"\"\n",
        "\n",
        "word_list = ['alice', 'wondered', 'rabbit']\n",
        "\n",
        "word_count_dict = dict()\n",
        "\n",
        "for word in strings.lower().split(' '):\n",
        "  try:\n",
        "    word_count_dict[word]+=1\n",
        "  except:\n",
        "    word_count_dict[word]=1\n",
        "\n",
        "print(word_count_dict)\n",
        "\n",
        "for i in word_list:\n",
        "  print(i,word_count_dict[i])"
      ],
      "metadata": {
        "id": "-SmtFFUq6a70",
        "colab": {
          "base_uri": "https://localhost:8080/"
        },
        "outputId": "93bfecd1-9747-4ccd-979c-145b0cacd795"
      },
      "execution_count": 11,
      "outputs": [
        {
          "output_type": "stream",
          "name": "stdout",
          "text": [
            "{'alice': 3, 'was': 5, 'beginning': 1, 'to': 6, 'get': 1, 'very': 4, 'tired': 1, 'of': 8, 'sitting': 1, 'by': 2, 'her': 7, 'sister\\n': 1, '': 235, 'on': 1, 'the': 12, 'bank,': 1, 'and': 7, 'having': 1, 'nothing': 2, 'do:': 1, 'once': 1, 'or': 4, 'twice': 1, 'she': 7, 'had\\n': 1, 'peeped': 1, 'into': 1, 'book': 1, 'sister': 1, 'reading,': 1, 'but': 3, 'it': 7, 'had': 2, 'no\\n': 1, 'pictures': 2, 'conversations': 1, 'in': 4, 'it,': 4, '`and': 1, 'what': 1, 'is': 1, 'use': 1, 'a': 8, \"book,'\\n\": 1, 'thought': 1, '`without': 1, \"conversation?'\\n\\n\": 1, 'so': 3, 'considering': 1, 'own': 1, 'mind': 2, '(as': 1, 'well': 1, 'as': 1, 'could,\\n': 1, 'for': 2, 'hot': 1, 'day': 1, 'made': 1, 'feel': 1, 'sleepy': 1, 'stupid),': 1, 'whether\\n': 1, 'pleasure': 1, 'making': 1, 'daisy-chain': 1, 'would': 1, 'be': 2, 'worth': 1, 'trouble\\n': 1, 'getting': 1, 'up': 1, 'picking': 1, 'daisies,': 1, 'when': 2, 'suddenly': 1, 'white\\n': 1, 'rabbit': 4, 'with': 3, 'pink': 1, 'eyes': 1, 'ran': 2, 'close': 1, 'her.\\n\\n': 1, 'there': 1, 'remarkable': 1, 'that;': 1, 'nor': 1, 'did': 1, 'alice\\n': 1, 'think': 1, 'much': 1, 'out': 3, 'way': 1, 'hear': 1, 'say': 1, 'to\\n': 3, 'itself,': 1, '`oh': 1, 'dear!': 2, 'oh': 1, 'i': 1, 'shall': 1, \"late!'\": 1, '(when': 1, 'thought\\n': 1, 'over': 1, 'afterwards,': 1, 'occurred': 1, 'that': 2, 'ought': 1, 'have\\n': 1, 'wondered': 1, 'at': 3, 'this,': 1, 'time': 2, 'all': 1, 'seemed': 1, 'quite': 1, 'natural);\\n': 1, 'actually': 1, 'took': 1, 'watch': 2, 'its': 1, 'waistcoat-\\n': 1, 'pocket,': 1, 'looked': 1, 'then': 1, 'hurried': 1, 'on,': 1, 'started': 1, 'feet,': 1, 'flashed': 1, 'across': 2, 'never\\n': 1, 'before': 1, 'seen': 1, 'either': 1, 'waistcoat-pocket,': 1, 'take': 1, 'burning': 1, 'curiosity,': 1, 'the\\n': 1, 'field': 1, 'after': 1, 'fortunately': 1, 'just': 1, 'see': 1, 'pop\\n': 1, 'down': 1, 'large': 1, 'rabbit-hole': 1, 'under': 1, 'hedge.': 1}\n",
            "alice 3\n",
            "wondered 1\n",
            "rabbit 4\n"
          ]
        }
      ]
    },
    {
      "cell_type": "markdown",
      "source": [
        "### **`Q-6:`** Given a string calculate length of the string using recursion.\n",
        "\n",
        "**Example 1:**\n",
        "\n",
        "Input:\n",
        "```bash\n",
        "\"abcd\"\n",
        "```\n",
        "\n",
        "Output:\n",
        "\n",
        "```bash\n",
        "4\n",
        "```\n",
        "\n",
        "**Example 2:**\n",
        "\n",
        "Input:\n",
        "```bash\n",
        "DataScience\n",
        "```\n",
        "\n",
        "Output:\n",
        "\n",
        "```bash\n",
        "11\n",
        "```\n"
      ],
      "metadata": {
        "id": "Und2HuFW6kAw"
      }
    },
    {
      "cell_type": "code",
      "source": [
        "# Write code here\n",
        "string = 'abcd'\n",
        "def string_len(s):\n",
        "  if s =='':\n",
        "    return 0\n",
        "  else:\n",
        "    return 1+string_len(s[1:])\n",
        "\n",
        "string_len(string)\n"
      ],
      "metadata": {
        "id": "9HE7lB5W61gT",
        "colab": {
          "base_uri": "https://localhost:8080/"
        },
        "outputId": "b104799e-ee1a-49a4-b53a-0cba60550aaa"
      },
      "execution_count": 12,
      "outputs": [
        {
          "output_type": "execute_result",
          "data": {
            "text/plain": [
              "4"
            ]
          },
          "metadata": {},
          "execution_count": 12
        }
      ]
    },
    {
      "cell_type": "markdown",
      "source": [
        "### **`Q-7:`** Write a function that accepts two numbers and returns their greatest common divisior. Without using any loop\n",
        "\n",
        "def gcd(int, int) => int\n",
        "\n",
        "```\n",
        "gcd(16,24) will give 8\n",
        "```"
      ],
      "metadata": {
        "id": "iUDvc-jl6759"
      }
    },
    {
      "cell_type": "code",
      "source": [
        "# Write code here\n",
        "\n",
        "def gcd (a,b):\n",
        "  if a==b:\n",
        "    return a\n",
        "  elif a>b:\n",
        "    retrun(gcd((a-b),b))\n",
        "  else:\n",
        "           return(gcd((b-a),a))\n",
        "\n",
        "gcd(16,24)"
      ],
      "metadata": {
        "id": "uMQnojHR7O2S",
        "colab": {
          "base_uri": "https://localhost:8080/"
        },
        "outputId": "00377b78-ff8a-45a4-890f-1928b034f0b3"
      },
      "execution_count": 14,
      "outputs": [
        {
          "output_type": "execute_result",
          "data": {
            "text/plain": [
              "8"
            ]
          },
          "metadata": {},
          "execution_count": 14
        }
      ]
    },
    {
      "cell_type": "markdown",
      "source": [
        " ### `Q-8:` String Edit Distance\n",
        "\n",
        " Use your recursive function to write a program that reads two strings from the\n",
        "user and displays the edit distance between them.\n",
        "\n",
        "*The edit distance between two strings is a measure of their similarity—the smaller the edit distance, the more similar the strings are with regard to the minimum number of insert, delete and substitute operations needed to transform one string into the other.*\n",
        "\n",
        "Consider the strings `kitten` and `sitting`. The first string can be transformed\n",
        "into the second string with the following operations:\n",
        "* Substitute the `k` with an `s`,\n",
        "* substitute the `e` with an `i`,\n",
        "* and insert a `g` at the end of the string.\n",
        "\n",
        "This is the smallest number of operations that can be performed to transform kitten into sitting. As a result, the edit distance is `3`.\n",
        "\n",
        "\n",
        "Write a recursive function that computes the edit distance between two strings.\n",
        "\n",
        "Use the following algorithm:\n",
        "\n",
        "```\n",
        "Let s and t be the strings\n",
        "    If the length of s is 0 then\n",
        "        Return the length of t\n",
        "    Else if the length of t is 0 then\n",
        "        Return the length of s\n",
        "    Else\n",
        "        Set cost to 0\n",
        "        If the last character in s does not equal the last character in t then\n",
        "            Set cost to 1\n",
        "        Set d1 equal to the edit distance between all characters except the last one in s, and all characters in t, plus 1\n",
        "        Set d2 equal to the edit distance between all characters in s, and all characters except the last one in t, plus 1\n",
        "\n",
        "        Set d3 equal to the edit distance between all characters except the last one in s, and all characters except the last one in t, plus cost\n",
        "        Return the minimum of d1, d2 and d3\n",
        "```\n",
        "\n",
        "\n",
        "\n"
      ],
      "metadata": {
        "id": "wFD35fva7Q_B"
      }
    },
    {
      "cell_type": "code",
      "source": [
        "# write code here\n",
        "def edit_dist(s,t):\n",
        "  if len(s)==0:\n",
        "    return len(t)\n",
        "  elif len(t)==0:\n",
        "    return len(s)\n",
        "  else:\n",
        "    cost = 0\n",
        "    if s[-1]!=t[-1]:\n",
        "      cost =1\n",
        "    d1 = edit_dist(s[:-1],t) + 1\n",
        "    d2 = edit_dist(s,t[:-1]) + 1\n",
        "    d3 = edit_dist(s[:-1],t[:-1]) + cost\n",
        "    return(min(d1,d2,d3))\n",
        "\n",
        "edit_dist('kitten','sitting')\n"
      ],
      "metadata": {
        "id": "zlNy_Q987QOX",
        "colab": {
          "base_uri": "https://localhost:8080/"
        },
        "outputId": "0011ffd9-8975-4eff-bc84-5ca5aff18c49"
      },
      "execution_count": 17,
      "outputs": [
        {
          "output_type": "execute_result",
          "data": {
            "text/plain": [
              "3"
            ]
          },
          "metadata": {},
          "execution_count": 17
        }
      ]
    },
    {
      "cell_type": "markdown",
      "source": [
        "###`Q-9:` Run-Length Encoding\n",
        "\n",
        "Run-length encoding is a simple data compression technique that can be effective when repeated values occur at adjacent positions within a list. Compression is achieved by replacing groups of repeated values with one copy of the value, followed by the number of times that the value should be repeated. For example, the list\n",
        "```\n",
        "[\"A\", \"A\", \"A\", \"A\", \"A\", \"A\", \"A\", \"A\", \"A\", \"A\", \"A\", \"A\", \"B\", \"B\", \"B\", \"B\", \"A\", \"A\", \"A\", \"A\", \"A\", \"A\", \"B\"]\n",
        "```\n",
        "would be compressed as `[\"A\", 12, \"B\", 4, \"A\", 6, \"B\", 1]`.\n",
        "\n",
        "Write a recursive function that implements the run-length compression technique\n",
        "described above. Your function will take a list or a string as its only parameter. It should return the run-length compressed list as its only result. Include a main program that reads a string from the user, compresses it, and displays the run-length encoded result."
      ],
      "metadata": {
        "id": "Hc9e-qES7iAK"
      }
    },
    {
      "cell_type": "code",
      "source": [
        "# Write code here\n",
        "string = 'aaaabbbccccccddddddeeeeehhhhh'\n",
        "def run_code(s):\n",
        "  if len(s) == 0:\n",
        "    return []\n",
        "  else:\n",
        "    index = 1\n",
        "    while index <len(s) and s[index] == s[index-1]:\n",
        "      index+=1\n",
        "    compressed = [s[0],index]\n",
        "    return compressed + run_code(s[index:])\n",
        "\n",
        "run_code(string)\n"
      ],
      "metadata": {
        "id": "W2Wb_WzP7qM1",
        "colab": {
          "base_uri": "https://localhost:8080/"
        },
        "outputId": "be15c0f2-93c6-41ba-f9c0-88d7053dbc2d"
      },
      "execution_count": 18,
      "outputs": [
        {
          "output_type": "execute_result",
          "data": {
            "text/plain": [
              "['a', 4, 'b', 3, 'c', 6, 'd', 6, 'e', 5, 'h', 5]"
            ]
          },
          "metadata": {},
          "execution_count": 18
        }
      ]
    },
    {
      "cell_type": "markdown",
      "source": [
        "###`Q-10:` Write a recursive function to convert a decimal to binary"
      ],
      "metadata": {
        "id": "x6A-4vGC8SLs"
      }
    },
    {
      "cell_type": "code",
      "source": [
        "# Write code here\n",
        "def Dec_to_bin(num):\n",
        "  if num == 0:\n",
        "    return 0\n",
        "  else:\n",
        "    return str(Dec_to_bin(num >> 1)) + str(num&1)\n",
        "\n",
        "Dec_to_bin(202)"
      ],
      "metadata": {
        "id": "izOr6D9V8aME",
        "colab": {
          "base_uri": "https://localhost:8080/",
          "height": 35
        },
        "outputId": "4d72a836-8fc6-4b2a-f450-39beed11dba3"
      },
      "execution_count": 20,
      "outputs": [
        {
          "output_type": "execute_result",
          "data": {
            "text/plain": [
              "'011001010'"
            ],
            "application/vnd.google.colaboratory.intrinsic+json": {
              "type": "string"
            }
          },
          "metadata": {},
          "execution_count": 20
        }
      ]
    }
  ]
}