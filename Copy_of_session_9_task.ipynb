{
  "nbformat": 4,
  "nbformat_minor": 0,
  "metadata": {
    "colab": {
      "provenance": [],
      "collapsed_sections": [
        "BCleRtX43caS",
        "KBbGNTtQ47mJ",
        "ExIxsv4y-oEd",
        "OcQhJvXVALgp",
        "sEsGEqOHCSWG",
        "v1M5Yh9ZZO0z"
      ],
      "include_colab_link": true
    },
    "kernelspec": {
      "name": "python3",
      "display_name": "Python 3"
    },
    "language_info": {
      "name": "python"
    }
  },
  "cells": [
    {
      "cell_type": "markdown",
      "metadata": {
        "id": "view-in-github",
        "colab_type": "text"
      },
      "source": [
        "<a href=\"https://colab.research.google.com/github/rahul123nayak/Campusx/blob/main/Copy_of_session_9_task.ipynb\" target=\"_parent\"><img src=\"https://colab.research.google.com/assets/colab-badge.svg\" alt=\"Open In Colab\"/></a>"
      ]
    },
    {
      "cell_type": "markdown",
      "source": [
        "### `Problem-1:` Class inheritence\n",
        "\n",
        "Create a **Bus** child class that inherits from the Vehicle class. The default fare charge of any vehicle is seating capacity * 100. If Vehicle is Bus instance, we need to add an extra 10% on full fare as a maintenance charge. So total fare for bus instance will become the final amount = total fare + 10% of the total fare.\n",
        "\n",
        "Note: The bus seating capacity is 50. so the final fare amount should be 5500. You need to override the fare() method of a Vehicle class in Bus class."
      ],
      "metadata": {
        "id": "BCleRtX43caS"
      }
    },
    {
      "cell_type": "code",
      "execution_count": 1,
      "metadata": {
        "colab": {
          "base_uri": "https://localhost:8080/"
        },
        "id": "6jVFCXKz3YZI",
        "outputId": "2dcff410-9549-4f73-e8a6-a8046c211fe8"
      },
      "outputs": [
        {
          "output_type": "stream",
          "name": "stdout",
          "text": [
            "5500.0\n"
          ]
        }
      ],
      "source": [
        "# Write code here\n",
        "class Vehicle:\n",
        "  def __init__(self,type,capacity):\n",
        "    self.type =type\n",
        "    self.capacity = capacity\n",
        "  def fare(self):\n",
        "    return 100*self.capacity\n",
        "\n",
        "class Bus(Vehicle):\n",
        "\n",
        "  def fare(self):\n",
        "    base_fare = super().fare()\n",
        "    bus_fare = base_fare + 0.1*base_fare\n",
        "    return bus_fare\n",
        "\n",
        "bus = Bus('school bus', 50)\n",
        "print(bus.fare())\n"
      ]
    },
    {
      "cell_type": "markdown",
      "source": [
        "### `Problem-2:` Class Inheritence\n",
        "\n",
        "Create a Bus class that inherits from the Vehicle class. Give the capacity argument of *Bus.seating_capacity()* a default value of 50.\n",
        "\n",
        "Use the following code for your parent Vehicle class."
      ],
      "metadata": {
        "id": "KBbGNTtQ47mJ"
      }
    },
    {
      "cell_type": "code",
      "source": [],
      "metadata": {
        "id": "MwOnYE_14M-r"
      },
      "execution_count": null,
      "outputs": []
    },
    {
      "cell_type": "code",
      "source": [],
      "metadata": {
        "id": "Py5Gr0ip5OBB"
      },
      "execution_count": null,
      "outputs": []
    },
    {
      "cell_type": "markdown",
      "source": [
        "### `Problem-3:` Write a program that has a class Point. Define another class Location which has two objects (Location & Destination) of class Point. Also define a function in Location that prints the reflection of Destination on the x axis."
      ],
      "metadata": {
        "id": "ExIxsv4y-oEd"
      }
    },
    {
      "cell_type": "code",
      "source": [
        "class Point:\n",
        "  def __init__(self, x, y):\n",
        "    self.x = x\n",
        "    self.y = y\n",
        "  def show_point(self):\n",
        "    return '{},{}'.format(self.x,self.y)\n",
        "\n",
        "class Location:\n",
        "  def __init__(self,x1,y1,x2,y2):\n",
        "    self.source = Point(x1,y1)\n",
        "    self.destination = Point(x2,y2)\n",
        "\n",
        "  def show(self):\n",
        "    print(\"source\",self.source.show_point())\n",
        "    print(\"destination\",self.destination.show_point())\n",
        "\n",
        "  def reflection(self):\n",
        "    self.destination.y = -self.destination.y\n",
        "    print('reflection is ', self.destination.show_point())\n",
        "\n",
        "L = Location(0,0,1,1)\n",
        "L.show()\n",
        "L.reflection()\n",
        "\n",
        "\n",
        "\n"
      ],
      "metadata": {
        "id": "yT2QtzQp5VAB",
        "colab": {
          "base_uri": "https://localhost:8080/"
        },
        "outputId": "d47abaaf-a268-4d2f-c4c7-5a6f6e0e2414"
      },
      "execution_count": 3,
      "outputs": [
        {
          "output_type": "stream",
          "name": "stdout",
          "text": [
            "source 0,0\n",
            "destination 1,1\n",
            "reflection is  1,-1\n"
          ]
        }
      ]
    },
    {
      "cell_type": "markdown",
      "source": [
        "### `Problem-4:` Write a program that has an abstract class Polygon. Derive two classes Rectangle and Triamgle from Polygon and write methods to get the details of their dimensions and hence calculate the area."
      ],
      "metadata": {
        "id": "OcQhJvXVALgp"
      }
    },
    {
      "cell_type": "code",
      "source": [
        "from abc import ABC, abstractmethod\n",
        "\n",
        "class Polygon(ABC):\n",
        "  @abstractmethod\n",
        "  def get_data():\n",
        "    pass\n",
        "\n",
        "  @abstractmethod\n",
        "  def area():\n",
        "    pass\n",
        "\n",
        "\n",
        "class Rectangle(Polygon):\n",
        "  def get_data(self,l,b):\n",
        "    self.l = l\n",
        "    self.b = b\n",
        "\n",
        "  def area(self):\n",
        "    return self.l*self.b\n",
        "\n",
        "class Triangle(Polygon):\n",
        "  def get_data(self,b,h):\n",
        "    self.b = b\n",
        "    self.h = h\n",
        "\n",
        "  def area(self):\n",
        "    return 0.5*self.b*self.h\n",
        "\n",
        "rect = Rectangle()\n",
        "rect.get_data(3,4)\n",
        "print(rect.area())\n",
        "\n",
        "Tri = Triangle()\n",
        "Tri.get_data(5,5)\n",
        "print(Tri.area())\n"
      ],
      "metadata": {
        "id": "9IMrtdUH__eA",
        "colab": {
          "base_uri": "https://localhost:8080/"
        },
        "outputId": "6eac4557-39dc-472b-cb76-f869b8f23de7"
      },
      "execution_count": 11,
      "outputs": [
        {
          "output_type": "stream",
          "name": "stdout",
          "text": [
            "12\n",
            "12.5\n"
          ]
        }
      ]
    },
    {
      "cell_type": "markdown",
      "source": [
        "### `Problem-5:` Write a program with class Bill. The users have the option to pay the bill either by cheque or by cash. Use the inheritance to model this situation."
      ],
      "metadata": {
        "id": "sEsGEqOHCSWG"
      }
    },
    {
      "cell_type": "code",
      "source": [
        "class Bill:\n",
        "  def __init__(self,item,price):\n",
        "    self.total = 0\n",
        "    self.item = item\n",
        "    self.price = price\n",
        "\n",
        "    for i in self.price:\n",
        "      self.total = self.total +i\n",
        "\n",
        "  def display(self):\n",
        "    print('item \\t\\t\\t price')\n",
        "    for i in range(len(self.item)):\n",
        "      print(self.item[i],'\\t',self.price[i])\n",
        "\n",
        "    print('*'*10)\n",
        "\n",
        "    print(\"total\",self.total)\n",
        "\n",
        "\n",
        "class cashpayment(Bill):\n",
        "\n",
        "  def __init__(self,item,price,deno,value):\n",
        "    super().__init__(item,price)\n",
        "    self.deno = deno\n",
        "    self.value = value\n",
        "\n",
        "  def show_cash_payment(self):\n",
        "    super().display()\n",
        "    for i in range(len(self.deno)):\n",
        "      print(self.deno[i],'*',self.value[i],'=',self.deno[i]*self.value[i])\n",
        "\n",
        "\n",
        "class checkPayment(Bill):\n",
        "  def __init__(self,item,price,cno,nBank):\n",
        "    super().__init__(item,price)\n",
        "    self.cno = cno\n",
        "    self.nBank = nBank\n",
        "\n",
        "  def show_cheque_payment(self):\n",
        "    super().display()\n",
        "    print('cheque no ',self.cno)\n",
        "    print('bank name ',self.nBank)\n",
        ""
      ],
      "metadata": {
        "id": "l0WFyP2PB3nf"
      },
      "execution_count": 16,
      "outputs": []
    },
    {
      "cell_type": "code",
      "source": [
        "item = ['hard disk','ram','printer','pen drive']\n",
        "price = [5000,3000,4000,500]\n",
        "\n",
        "deno = [10,20,50,100,500,2000]\n",
        "value =[20,30,2,4,1,1]\n",
        "cash = cashpayment(item,price,deno,value)\n",
        "\n",
        "cash.show_cash_payment()"
      ],
      "metadata": {
        "colab": {
          "base_uri": "https://localhost:8080/"
        },
        "id": "J87JcC18RdxF",
        "outputId": "1d11c541-6464-45a6-d1ad-44248b8a36bb"
      },
      "execution_count": 15,
      "outputs": [
        {
          "output_type": "stream",
          "name": "stdout",
          "text": [
            "item \t\t\t price\n",
            "hard disk \t 5000\n",
            "ram \t 3000\n",
            "printer \t 4000\n",
            "pen drive \t 500\n",
            "**********\n",
            "total 12500\n",
            "10 * 20 = 200\n",
            "20 * 30 = 600\n",
            "50 * 2 = 100\n",
            "100 * 4 = 400\n",
            "500 * 1 = 500\n",
            "2000 * 1 = 2000\n"
          ]
        }
      ]
    },
    {
      "cell_type": "markdown",
      "source": [
        "###`Q-6:` FlexibleDict\n",
        "As of now we are accessing values from dictionary with exact keys. Now we want to amend accessing values functionality. if a dict have key `1` (int) the even if we try to access values by giving `'1'` (1 as str) as key, we should get the same result and vice versa.\n",
        "\n",
        "Write a class `FlexibleDict` upon builtin `dict` class with above required functionality.\n",
        "\n",
        "Hint- `dict[key] => dict.__getitem__(key)`"
      ],
      "metadata": {
        "id": "v1M5Yh9ZZO0z"
      }
    },
    {
      "cell_type": "markdown",
      "source": [
        "Ex.\n",
        "```\n",
        "fd = FlexibleDict()\n",
        "fd['a'] = 100\n",
        "print(fd['a']) # Like regular dict\n",
        "\n",
        "fd[5] = 500\n",
        "print(fd[5]) # Like regular dict\n",
        "\n",
        "fd[1] = 100\n",
        "print(fd['1']) # actual Key is int but still trying to access through str key.\n",
        "fd['1'] = 100\n",
        "print(fd[1])\n",
        "\n",
        "```\n",
        "`Output:`\n",
        "```\n",
        "100\n",
        "500\n",
        "100\n",
        "100\n",
        "\n",
        "```"
      ],
      "metadata": {
        "id": "uajGeWegbfda"
      }
    },
    {
      "cell_type": "code",
      "source": [],
      "metadata": {
        "id": "OHLbOtCxZ2nw"
      },
      "execution_count": null,
      "outputs": []
    },
    {
      "cell_type": "code",
      "source": [],
      "metadata": {
        "id": "7NM8r__dmeMf"
      },
      "execution_count": null,
      "outputs": []
    },
    {
      "cell_type": "code",
      "source": [],
      "metadata": {
        "id": "waHSud8Ymkz-"
      },
      "execution_count": null,
      "outputs": []
    }
  ]
}