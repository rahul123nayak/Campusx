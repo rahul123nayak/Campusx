{
  "nbformat": 4,
  "nbformat_minor": 0,
  "metadata": {
    "colab": {
      "provenance": [],
      "include_colab_link": true
    },
    "kernelspec": {
      "name": "python3",
      "display_name": "Python 3"
    },
    "language_info": {
      "name": "python"
    }
  },
  "cells": [
    {
      "cell_type": "markdown",
      "metadata": {
        "id": "view-in-github",
        "colab_type": "text"
      },
      "source": [
        "<a href=\"https://colab.research.google.com/github/rahul123nayak/Campusx/blob/main/Copy_of_task_15_numpy_tricks.ipynb\" target=\"_parent\"><img src=\"https://colab.research.google.com/assets/colab-badge.svg\" alt=\"Open In Colab\"/></a>"
      ]
    },
    {
      "cell_type": "markdown",
      "source": [
        "###`Q-1:` Create a random 3x4 matrix with value between 0-100. And perform below tasks\n",
        "\n",
        "    i. Sort this matrix. np.sort()\n",
        "    ii. Sort this matrix based on values in 2nd column.\n",
        "    iii. Sort this matrix based on max value in each row.\n",
        "    iv. Sort based on elements value.\n"
      ],
      "metadata": {
        "id": "J88qfqQEk_sT"
      }
    },
    {
      "cell_type": "markdown",
      "source": [
        "See examples:\n",
        "```\n",
        "arr =\n",
        "    [[92 90 74]\n",
        "    [ 6 63 93]\n",
        "    [15 93 96]\n",
        "    [70 60 48]]\n",
        "```\n",
        "```\n",
        "i. np.sort\n",
        "[[74 90 92]\n",
        " [ 6 63 93]\n",
        " [15 93 96]\n",
        " [48 60 70]]\n",
        "\n",
        "ii. based on 2nd column\n",
        "[[70 60 48]\n",
        " [ 6 63 93]\n",
        " [92 90 74]\n",
        " [15 93 96]]\n",
        "\n",
        "iii. based on row max- ascending\n",
        "[[15 93 96]\n",
        " [ 6 63 93]\n",
        " [92 90 74]\n",
        " [70 60 48]]\n",
        "\n",
        "iv. based on elements value\n",
        "[[ 6 15 48]\n",
        " [60 63 70]\n",
        " [74 90 92]\n",
        " [93 93 96]]\n",
        "\n",
        "```"
      ],
      "metadata": {
        "id": "xpOwOdhqlE9R"
      }
    },
    {
      "cell_type": "code",
      "source": [
        "import numpy as np"
      ],
      "metadata": {
        "id": "LiYJcj8cLIb3"
      },
      "execution_count": 2,
      "outputs": []
    },
    {
      "cell_type": "code",
      "source": [
        "# code here\n",
        "arr =  np.random.randint(0,100,12).reshape(3,4)\n",
        "arr"
      ],
      "metadata": {
        "id": "Auy-guUwlALv",
        "colab": {
          "base_uri": "https://localhost:8080/"
        },
        "outputId": "ba36fc25-cc65-4586-c9ab-89ebdac7a3fa"
      },
      "execution_count": null,
      "outputs": [
        {
          "output_type": "execute_result",
          "data": {
            "text/plain": [
              "array([[ 8, 52, 37, 72],\n",
              "       [ 3, 59, 57, 57],\n",
              "       [53, 91, 38, 18]])"
            ]
          },
          "metadata": {},
          "execution_count": 17
        }
      ]
    },
    {
      "cell_type": "code",
      "source": [
        "np.sort(arr)"
      ],
      "metadata": {
        "colab": {
          "base_uri": "https://localhost:8080/"
        },
        "id": "V2AhEmBrNF5q",
        "outputId": "caa824db-394f-4840-ad7a-653dc15b3060"
      },
      "execution_count": null,
      "outputs": [
        {
          "output_type": "execute_result",
          "data": {
            "text/plain": [
              "array([[ 8, 37, 52, 72],\n",
              "       [ 3, 57, 57, 59],\n",
              "       [18, 38, 53, 91]])"
            ]
          },
          "metadata": {},
          "execution_count": 18
        }
      ]
    },
    {
      "cell_type": "code",
      "source": [
        "np.sort(arr, axis=0)"
      ],
      "metadata": {
        "colab": {
          "base_uri": "https://localhost:8080/"
        },
        "id": "kPE6Yon_Nd7B",
        "outputId": "bb3c4dbd-bfac-4c5b-ac5b-6e58225ffe5a"
      },
      "execution_count": null,
      "outputs": [
        {
          "output_type": "execute_result",
          "data": {
            "text/plain": [
              "array([[ 3, 52, 37, 18],\n",
              "       [ 8, 59, 38, 57],\n",
              "       [53, 91, 57, 72]])"
            ]
          },
          "metadata": {},
          "execution_count": 19
        }
      ]
    },
    {
      "cell_type": "code",
      "source": [
        "arr[arr[:,1].argsort()]\n",
        "\n"
      ],
      "metadata": {
        "colab": {
          "base_uri": "https://localhost:8080/"
        },
        "id": "9RwyNAOULE_m",
        "outputId": "b398f8da-ea07-45e6-db63-2bbd5e556c50"
      },
      "execution_count": null,
      "outputs": [
        {
          "output_type": "execute_result",
          "data": {
            "text/plain": [
              "array([[ 8, 52, 37, 72],\n",
              "       [ 3, 59, 57, 57],\n",
              "       [53, 91, 38, 18]])"
            ]
          },
          "metadata": {},
          "execution_count": 22
        }
      ]
    },
    {
      "cell_type": "code",
      "source": [
        "np.array(sorted(arr,key= lambda x:max(x)))"
      ],
      "metadata": {
        "colab": {
          "base_uri": "https://localhost:8080/"
        },
        "id": "e5XTuzUQYFYn",
        "outputId": "4cfcba76-d213-4c9e-d0fe-c4154bd357fd"
      },
      "execution_count": null,
      "outputs": [
        {
          "output_type": "execute_result",
          "data": {
            "text/plain": [
              "array([[ 3, 59, 57, 57],\n",
              "       [ 8, 52, 37, 72],\n",
              "       [53, 91, 38, 18]])"
            ]
          },
          "metadata": {},
          "execution_count": 25
        }
      ]
    },
    {
      "cell_type": "code",
      "source": [
        "np.sort(arr,axis=None).reshape(3,4)"
      ],
      "metadata": {
        "colab": {
          "base_uri": "https://localhost:8080/"
        },
        "id": "U7sx9-VjZrru",
        "outputId": "026e824e-147f-4863-bfeb-dabd5d55d3dd"
      },
      "execution_count": null,
      "outputs": [
        {
          "output_type": "execute_result",
          "data": {
            "text/plain": [
              "array([[ 3,  8, 18, 37],\n",
              "       [38, 52, 53, 57],\n",
              "       [57, 59, 72, 91]])"
            ]
          },
          "metadata": {},
          "execution_count": 26
        }
      ]
    },
    {
      "cell_type": "markdown",
      "source": [
        "###`Q-2:` There is an array of marks of 5 students in 4 subjects. Further you are asked to perform below task.\n",
        "    i. Add marks every student of an extra subject in the same array.\n",
        "    ii. Add two new students marks in respective 5 subjects.(one subject added in above task)\n",
        "    iii. Add extra column with sum of all subjects(5-subjects) marks\n",
        "    iv. Sort the array(non-ascending order) on total marks column--one added in above task. Show top 2 rows.\n",
        "\n",
        "Note: Change dimension of arrays during concatenation or appending if required."
      ],
      "metadata": {
        "id": "Jx_I3gx9lBay"
      }
    },
    {
      "cell_type": "markdown",
      "source": [
        "Given Array-\n",
        "```\n",
        "marks = [[13, 10,  9, 33],\n",
        "       [63, 46, 90, 42],\n",
        "       [39, 76, 13, 29],\n",
        "       [82,  9, 29, 78],\n",
        "       [67, 61, 59, 36]]\n",
        "\n",
        "extra_subject = [41, 87, 72, 36, 92]\n",
        "#Two extra students record-\n",
        "rec1 = [77, 83, 98, 95, 89]\n",
        "rec2 = [92, 71, 52, 61, 53]\n",
        "```"
      ],
      "metadata": {
        "id": "lXF-CE6ylNIw"
      }
    },
    {
      "cell_type": "code",
      "source": [
        "# code here\n",
        "marks = np.array([[13, 10,  9, 33],\n",
        "       [63, 46, 90, 42],\n",
        "       [39, 76, 13, 29],\n",
        "       [82,  9, 29, 78],\n",
        "       [67, 61, 59, 36]])\n",
        "extra_subject = np.array([41, 87, 72, 36, 92]).reshape(-1,1)\n",
        "arr=np.concatenate([marks,extra_subject],axis =1)\n",
        "\n",
        "rec1 = np.array([77, 83, 98, 95, 89])\n",
        "rec2 = np.array([92, 71, 52, 61, 53])\n",
        "\n",
        "arr1 = np.vstack((arr,rec1,rec2))\n",
        "\n",
        "arr2 =np.hstack((arr1,np.array(arr1.sum(axis =1)).reshape(-1,1)))\n",
        "\n",
        "\n",
        "marks = np.array(sorted(arr2, key = lambda x:x[-1],reverse = True))\n",
        "marks[:2,:]"
      ],
      "metadata": {
        "id": "7YKsWO2olMkq",
        "colab": {
          "base_uri": "https://localhost:8080/"
        },
        "outputId": "32a14ead-ad7b-4acd-9e77-719a525e6677"
      },
      "execution_count": 83,
      "outputs": [
        {
          "output_type": "execute_result",
          "data": {
            "text/plain": [
              "array([[ 77,  83,  98,  95,  89, 442],\n",
              "       [ 92,  71,  52,  61,  53, 329]])"
            ]
          },
          "metadata": {},
          "execution_count": 83
        }
      ]
    },
    {
      "cell_type": "markdown",
      "source": [
        "###`Q-3:` Find unique arrays from a 2D array column wise and row wise.\n",
        "```\n",
        "arr = np.array([[1,2,3,3,1,1],\n",
        "                [0,9,1,2,8,8],\n",
        "                [1,2,3,8,8,8],\n",
        "                [1,2,3,3,1,1]])\n",
        "```\n",
        "Expected Result-\n",
        "```\n",
        "Row Wise\n",
        "[[0 9 1 2 8 8]\n",
        " [1 2 3 3 1 1]\n",
        " [1 2 3 8 8 8]]\n",
        "\n",
        "Col Wise\n",
        "[[1 1 2 3 3]\n",
        " [0 8 9 1 2]\n",
        " [1 8 2 3 8]\n",
        " [1 1 2 3 3]]\n",
        "```"
      ],
      "metadata": {
        "id": "VmOyK_8klRqR"
      }
    },
    {
      "cell_type": "code",
      "source": [
        "# code here\n",
        "arr = np.array([[1,2,3,3,1,1],\n",
        "                [0,9,1,2,8,8],\n",
        "                [1,2,3,8,8,8],\n",
        "                [1,2,3,3,1,1]])\n",
        "\n",
        "np.unique(arr, axis =0)"
      ],
      "metadata": {
        "id": "LJl10VQrlU5q",
        "colab": {
          "base_uri": "https://localhost:8080/"
        },
        "outputId": "a2a04da0-c2e3-4f23-93f5-7eed9be30d0e"
      },
      "execution_count": 84,
      "outputs": [
        {
          "output_type": "execute_result",
          "data": {
            "text/plain": [
              "array([[0, 9, 1, 2, 8, 8],\n",
              "       [1, 2, 3, 3, 1, 1],\n",
              "       [1, 2, 3, 8, 8, 8]])"
            ]
          },
          "metadata": {},
          "execution_count": 84
        }
      ]
    },
    {
      "cell_type": "code",
      "source": [
        "np.unique(arr,axis =1)"
      ],
      "metadata": {
        "colab": {
          "base_uri": "https://localhost:8080/"
        },
        "id": "aoL4f76WOQT4",
        "outputId": "9d95beb4-f3ea-47f6-fc98-26c7c5c93c4c"
      },
      "execution_count": 85,
      "outputs": [
        {
          "output_type": "execute_result",
          "data": {
            "text/plain": [
              "array([[1, 1, 2, 3, 3],\n",
              "       [0, 8, 9, 1, 2],\n",
              "       [1, 8, 2, 3, 8],\n",
              "       [1, 1, 2, 3, 3]])"
            ]
          },
          "metadata": {},
          "execution_count": 85
        }
      ]
    },
    {
      "cell_type": "markdown",
      "source": [
        "###`Q-4:` Flip given 2-D array along both axes at the same time."
      ],
      "metadata": {
        "id": "RaXwVkywlWY2"
      }
    },
    {
      "cell_type": "code",
      "source": [
        "# code here\n",
        "arr = np.arange(-10,10).reshape(5,4)\n",
        "np.flip(arr)"
      ],
      "metadata": {
        "id": "mN7-4G8Kleeq",
        "colab": {
          "base_uri": "https://localhost:8080/"
        },
        "outputId": "e9a9673f-3dea-4bff-f703-e0b2f34558b8"
      },
      "execution_count": 90,
      "outputs": [
        {
          "output_type": "execute_result",
          "data": {
            "text/plain": [
              "array([[  9,   8,   7,   6],\n",
              "       [  5,   4,   3,   2],\n",
              "       [  1,   0,  -1,  -2],\n",
              "       [ -3,  -4,  -5,  -6],\n",
              "       [ -7,  -8,  -9, -10]])"
            ]
          },
          "metadata": {},
          "execution_count": 90
        }
      ]
    },
    {
      "cell_type": "markdown",
      "source": [
        "### `Q-5:` Get row numbers of NumPy array having element larger than X.\n",
        "```\n",
        "arr = [[1,2,3,4,5],\n",
        "      [10,-3,30,4,5],\n",
        "      [3,2,5,-4,5],\n",
        "      [9,7,3,6,5]]\n",
        "\n",
        "X = 6\n",
        "```"
      ],
      "metadata": {
        "id": "X0S7BUNTlfoq"
      }
    },
    {
      "cell_type": "code",
      "source": [
        "# code here\n",
        "arr = np.array([[1,2,3,4,5],\n",
        "      [10,-3,30,4,5],\n",
        "      [3,2,5,-4,5],\n",
        "      [9,7,3,6,5]])\n",
        "np.where(np.any(arr>6,axis =1))\n"
      ],
      "metadata": {
        "id": "bi8jRmWhlkBU",
        "colab": {
          "base_uri": "https://localhost:8080/"
        },
        "outputId": "0376fda0-a939-4344-98f0-9f151b0dff7e"
      },
      "execution_count": 100,
      "outputs": [
        {
          "output_type": "execute_result",
          "data": {
            "text/plain": [
              "(array([1, 3]),)"
            ]
          },
          "metadata": {},
          "execution_count": 100
        }
      ]
    },
    {
      "cell_type": "markdown",
      "source": [
        "### `Q-6:` How to convert an array of arrays into a flat 1d array?\n"
      ],
      "metadata": {
        "id": "DSCQMo4mlnDG"
      }
    },
    {
      "cell_type": "code",
      "source": [
        "# These arrays are given.\n",
        "arr1 = np.arange(3)\n",
        "arr2 = np.arange(3,7)\n",
        "arr3 = np.arange(7,10)"
      ],
      "metadata": {
        "id": "QZhSkUT2lsJW"
      },
      "execution_count": null,
      "outputs": []
    },
    {
      "cell_type": "code",
      "source": [
        "# code here\n",
        "arr1 = np.arange(3)\n",
        "arr2 = np.arange(3,7)\n",
        "arr3 = np.arange(7,10)\n",
        "np.concatenate((arr1,arr2,arr3))"
      ],
      "metadata": {
        "id": "f42OXNrFls0I",
        "colab": {
          "base_uri": "https://localhost:8080/"
        },
        "outputId": "2b653fda-5f45-4a0c-b121-c4d1bae1e41a"
      },
      "execution_count": 102,
      "outputs": [
        {
          "output_type": "execute_result",
          "data": {
            "text/plain": [
              "array([0, 1, 2, 3, 4, 5, 6, 7, 8, 9])"
            ]
          },
          "metadata": {},
          "execution_count": 102
        }
      ]
    },
    {
      "cell_type": "markdown",
      "source": [
        "### `Q-7:` You are given a array. You have to find the minimum and maximum array element and remove that from the array.\n",
        "\n",
        "```python\n",
        "import numpy as np\n",
        "\n",
        "np.random.seed(400)\n",
        "arr = np.random.randint(100, 1000, 200).reshape((1, 200))\n",
        "```"
      ],
      "metadata": {
        "id": "A1J4oOVCluqO"
      }
    },
    {
      "cell_type": "code",
      "source": [
        "# code here\n",
        "import numpy as np\n",
        "\n",
        "np.random.seed(400)\n",
        "arr = np.random.randint(100, 1000, 200).reshape((1, 200))\n",
        "max_element = arr.argmax()\n",
        "min_element = arr.argmin()\n",
        "print(arr.max(),arr.min())\n",
        "np.delete(arr,max_element,axis=1)\n",
        "np.delete(arr,min_element,axis=1)\n",
        "print(arr.max(),arr.min())\n"
      ],
      "metadata": {
        "id": "c6kmgtUJlybZ",
        "colab": {
          "base_uri": "https://localhost:8080/"
        },
        "outputId": "d9113042-4274-4813-f931-7552bd67be30"
      },
      "execution_count": 111,
      "outputs": [
        {
          "output_type": "stream",
          "name": "stdout",
          "text": [
            "998 103\n",
            "998 103\n"
          ]
        }
      ]
    },
    {
      "cell_type": "markdown",
      "source": [
        "### `Q-8:` You are given an arrays. You have to limit this array's elements between 100 to 200. $arr ∈ [100, 700]$. So replace those values accordingly with the minimum and maximum value. Then sort the array and perform the cumulative sum of that array."
      ],
      "metadata": {
        "id": "0dHN1sdnl0Jy"
      }
    },
    {
      "cell_type": "code",
      "source": [
        "# code here\n",
        "arr = np.random.randint(0,2000,500)\n",
        "np.cumsum(np.sort(np.clip(arr,100,200)))"
      ],
      "metadata": {
        "id": "a3YF_E-Hlza7",
        "colab": {
          "base_uri": "https://localhost:8080/"
        },
        "outputId": "5677ddfe-1df4-40c6-f706-c3db1e118919"
      },
      "execution_count": 113,
      "outputs": [
        {
          "output_type": "execute_result",
          "data": {
            "text/plain": [
              "array([  100,   200,   300,   400,   500,   600,   700,   800,   900,\n",
              "        1000,  1100,  1200,  1300,  1400,  1500,  1600,  1700,  1800,\n",
              "        1900,  2000,  2110,  2222,  2337,  2454,  2581,  2709,  2838,\n",
              "        2974,  3111,  3257,  3405,  3559,  3715,  3872,  4031,  4196,\n",
              "        4362,  4535,  4710,  4889,  5070,  5253,  5438,  5623,  5809,\n",
              "        5995,  6182,  6380,  6580,  6780,  6980,  7180,  7380,  7580,\n",
              "        7780,  7980,  8180,  8380,  8580,  8780,  8980,  9180,  9380,\n",
              "        9580,  9780,  9980, 10180, 10380, 10580, 10780, 10980, 11180,\n",
              "       11380, 11580, 11780, 11980, 12180, 12380, 12580, 12780, 12980,\n",
              "       13180, 13380, 13580, 13780, 13980, 14180, 14380, 14580, 14780,\n",
              "       14980, 15180, 15380, 15580, 15780, 15980, 16180, 16380, 16580,\n",
              "       16780, 16980, 17180, 17380, 17580, 17780, 17980, 18180, 18380,\n",
              "       18580, 18780, 18980, 19180, 19380, 19580, 19780, 19980, 20180,\n",
              "       20380, 20580, 20780, 20980, 21180, 21380, 21580, 21780, 21980,\n",
              "       22180, 22380, 22580, 22780, 22980, 23180, 23380, 23580, 23780,\n",
              "       23980, 24180, 24380, 24580, 24780, 24980, 25180, 25380, 25580,\n",
              "       25780, 25980, 26180, 26380, 26580, 26780, 26980, 27180, 27380,\n",
              "       27580, 27780, 27980, 28180, 28380, 28580, 28780, 28980, 29180,\n",
              "       29380, 29580, 29780, 29980, 30180, 30380, 30580, 30780, 30980,\n",
              "       31180, 31380, 31580, 31780, 31980, 32180, 32380, 32580, 32780,\n",
              "       32980, 33180, 33380, 33580, 33780, 33980, 34180, 34380, 34580,\n",
              "       34780, 34980, 35180, 35380, 35580, 35780, 35980, 36180, 36380,\n",
              "       36580, 36780, 36980, 37180, 37380, 37580, 37780, 37980, 38180,\n",
              "       38380, 38580, 38780, 38980, 39180, 39380, 39580, 39780, 39980,\n",
              "       40180, 40380, 40580, 40780, 40980, 41180, 41380, 41580, 41780,\n",
              "       41980, 42180, 42380, 42580, 42780, 42980, 43180, 43380, 43580,\n",
              "       43780, 43980, 44180, 44380, 44580, 44780, 44980, 45180, 45380,\n",
              "       45580, 45780, 45980, 46180, 46380, 46580, 46780, 46980, 47180,\n",
              "       47380, 47580, 47780, 47980, 48180, 48380, 48580, 48780, 48980,\n",
              "       49180, 49380, 49580, 49780, 49980, 50180, 50380, 50580, 50780,\n",
              "       50980, 51180, 51380, 51580, 51780, 51980, 52180, 52380, 52580,\n",
              "       52780, 52980, 53180, 53380, 53580, 53780, 53980, 54180, 54380,\n",
              "       54580, 54780, 54980, 55180, 55380, 55580, 55780, 55980, 56180,\n",
              "       56380, 56580, 56780, 56980, 57180, 57380, 57580, 57780, 57980,\n",
              "       58180, 58380, 58580, 58780, 58980, 59180, 59380, 59580, 59780,\n",
              "       59980, 60180, 60380, 60580, 60780, 60980, 61180, 61380, 61580,\n",
              "       61780, 61980, 62180, 62380, 62580, 62780, 62980, 63180, 63380,\n",
              "       63580, 63780, 63980, 64180, 64380, 64580, 64780, 64980, 65180,\n",
              "       65380, 65580, 65780, 65980, 66180, 66380, 66580, 66780, 66980,\n",
              "       67180, 67380, 67580, 67780, 67980, 68180, 68380, 68580, 68780,\n",
              "       68980, 69180, 69380, 69580, 69780, 69980, 70180, 70380, 70580,\n",
              "       70780, 70980, 71180, 71380, 71580, 71780, 71980, 72180, 72380,\n",
              "       72580, 72780, 72980, 73180, 73380, 73580, 73780, 73980, 74180,\n",
              "       74380, 74580, 74780, 74980, 75180, 75380, 75580, 75780, 75980,\n",
              "       76180, 76380, 76580, 76780, 76980, 77180, 77380, 77580, 77780,\n",
              "       77980, 78180, 78380, 78580, 78780, 78980, 79180, 79380, 79580,\n",
              "       79780, 79980, 80180, 80380, 80580, 80780, 80980, 81180, 81380,\n",
              "       81580, 81780, 81980, 82180, 82380, 82580, 82780, 82980, 83180,\n",
              "       83380, 83580, 83780, 83980, 84180, 84380, 84580, 84780, 84980,\n",
              "       85180, 85380, 85580, 85780, 85980, 86180, 86380, 86580, 86780,\n",
              "       86980, 87180, 87380, 87580, 87780, 87980, 88180, 88380, 88580,\n",
              "       88780, 88980, 89180, 89380, 89580, 89780, 89980, 90180, 90380,\n",
              "       90580, 90780, 90980, 91180, 91380, 91580, 91780, 91980, 92180,\n",
              "       92380, 92580, 92780, 92980, 93180, 93380, 93580, 93780, 93980,\n",
              "       94180, 94380, 94580, 94780, 94980, 95180, 95380, 95580, 95780,\n",
              "       95980, 96180, 96380, 96580, 96780])"
            ]
          },
          "metadata": {},
          "execution_count": 113
        }
      ]
    },
    {
      "cell_type": "markdown",
      "source": [
        "### `Q-9:` You are given a array ($arr ∈ [0, 1]$). First you have round off the elements upto 3 decimal places and compare that\n",
        "- 0th percentile == minimum value of the array\n",
        "- 100th percentile == maximum value of the array\n",
        "- also find the difference betwen 51th percenile and 50th percentile values"
      ],
      "metadata": {
        "id": "cXj90Susl4-I"
      }
    },
    {
      "cell_type": "code",
      "source": [
        "# code here\n",
        "arr = np.random.random(100)\n",
        "arr = np.around(arr,3)\n",
        "arr\n",
        "print(np.percentile(arr,0)== np.min(arr))\n",
        "print(np.percentile(arr,100)== np.max(arr))\n",
        "print(np.percentile(arr,51)-np.percentile(arr,50))"
      ],
      "metadata": {
        "id": "SgBEHodgl7Lo",
        "colab": {
          "base_uri": "https://localhost:8080/"
        },
        "outputId": "a204dc96-1d17-412f-c22b-c67e33821817"
      },
      "execution_count": 119,
      "outputs": [
        {
          "output_type": "stream",
          "name": "stdout",
          "text": [
            "True\n",
            "True\n",
            "0.014910000000000034\n"
          ]
        }
      ]
    },
    {
      "cell_type": "code",
      "source": [],
      "metadata": {
        "id": "-pWmbtAUetS1"
      },
      "execution_count": null,
      "outputs": []
    }
  ]
}